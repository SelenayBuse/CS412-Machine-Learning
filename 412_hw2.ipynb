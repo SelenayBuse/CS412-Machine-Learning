{
  "nbformat": 4,
  "nbformat_minor": 0,
  "metadata": {
    "colab": {
      "provenance": []
    },
    "kernelspec": {
      "name": "python3",
      "display_name": "Python 3"
    },
    "language_info": {
      "name": "python"
    }
  },
  "cells": [
    {
      "cell_type": "code",
      "execution_count": 2,
      "metadata": {
        "id": "56M4fqaGJNMb"
      },
      "outputs": [],
      "source": [
        "import pandas as pd\n",
        "import numpy as np\n",
        "import matplotlib.pyplot as plt"
      ]
    },
    {
      "cell_type": "code",
      "source": [
        "import regex"
      ],
      "metadata": {
        "id": "N6-yj3wRqRGb"
      },
      "execution_count": 4,
      "outputs": []
    },
    {
      "cell_type": "code",
      "source": [
        "schema_pd = pd.read_csv(\"schema.csv\")\n",
        "freeform_df = pd.read_csv(\"freeformResponses.csv\")\n",
        "multichoice_df = pd.read_csv(\"multipleChoiceResponses.csv\", encoding=\"latin1\")\n",
        "convrates_df = pd.read_csv(\"conversionRates.csv\")"
      ],
      "metadata": {
        "colab": {
          "base_uri": "https://localhost:8080/"
        },
        "id": "8WTjIWS5MWnM",
        "outputId": "5910bfb4-249a-49ea-e1a4-059b912b6d3d"
      },
      "execution_count": 5,
      "outputs": [
        {
          "output_type": "stream",
          "name": "stderr",
          "text": [
            "<ipython-input-5-3c57e4aa5c50>:2: DtypeWarning: Columns (5,17,21,38,50) have mixed types. Specify dtype option on import or set low_memory=False.\n",
            "  freeform_df = pd.read_csv(\"freeformResponses.csv\")\n"
          ]
        }
      ]
    },
    {
      "cell_type": "markdown",
      "source": [
        "Q2-a\n",
        "P(A|B) WHERE A IS BEING A PROGRAMMER AND B IS USING C/C++"
      ],
      "metadata": {
        "id": "uBnxbfRZOBpb"
      }
    },
    {
      "cell_type": "code",
      "source": [
        "total_number_of_respondents = multichoice_df.shape[0]\n",
        "\n",
        "programmers_df = multichoice_df[multichoice_df['CurrentJobTitleSelect'] == 'Programmer']\n",
        "programmers_df = programmers_df.dropna(subset=['WorkToolsSelect'])\n",
        "programmers_count = programmers_df.shape[0] #TOTAL NUMBER OF PROGRAMMERS\n",
        "\n",
        "total_c_cpp_users_count = multichoice_df['WorkToolsSelect'].str.contains(regex.escape('C/C++')).sum() # NUMBER OF TOTAL PEOPLE WHO USES C/C++\n",
        "programmers_c_cpp_users_count = programmers_df['WorkToolsSelect'].str.contains(regex.escape('C/C++')).sum() # NUMBER OF PROGRAMMERS WHO USE C/C++\n",
        "\n",
        "(programmers_c_cpp_users_count/total_number_of_respondents)/(total_c_cpp_users_count/total_number_of_respondents)\n",
        "\n",
        "probability_programmer_given_c_cpp = programmers_c_cpp_users_count / total_c_cpp_users_count\n",
        "\n",
        "print(probability_programmer_given_c_cpp)"
      ],
      "metadata": {
        "colab": {
          "base_uri": "https://localhost:8080/"
        },
        "id": "qwYzjEGGNZfP",
        "outputId": "05f4d2bc-f76d-4aad-bec7-709bef74808e"
      },
      "execution_count": 9,
      "outputs": [
        {
          "output_type": "stream",
          "name": "stdout",
          "text": [
            "0.02122641509433962\n"
          ]
        }
      ]
    },
    {
      "cell_type": "markdown",
      "source": [
        "Q2-b"
      ],
      "metadata": {
        "id": "_imQiU-h0AOo"
      }
    },
    {
      "cell_type": "code",
      "source": [
        "majored_df = multichoice_df[(multichoice_df['MajorSelect'] == 'Computer Science') |\n",
        "                                (multichoice_df['MajorSelect'] == 'Mathematics') | (multichoice_df['MajorSelect'] == 'Statistics')]\n",
        "data_scientist_majored_count = majored_df[majored_df['CurrentJobTitleSelect'] == 'Data Scientist'].shape[0] # NUMBER OF DATA SCIENTISTS IN MAJORED DF\n",
        "probability = data_scientist_majored_count / majored_df.shape[0]\n",
        "\n",
        "print(probability)"
      ],
      "metadata": {
        "colab": {
          "base_uri": "https://localhost:8080/"
        },
        "id": "h4sHQ7qtz__f",
        "outputId": "a646a7c6-e4c0-478b-c615-78dfbe178f08"
      },
      "execution_count": null,
      "outputs": [
        {
          "output_type": "stream",
          "name": "stdout",
          "text": [
            "0.12053672958835569\n"
          ]
        }
      ]
    },
    {
      "cell_type": "markdown",
      "source": [
        "Q2-c"
      ],
      "metadata": {
        "id": "rH3k95r_2h9E"
      }
    },
    {
      "cell_type": "code",
      "source": [
        "multichoice_df['CompensationAmount'] = multichoice_df['CompensationAmount'].replace(\"-\", \"0\")\n",
        "# Convert CompensationAmount column to numeric type (for rows with numeric values)\n",
        "multichoice_df['CompensationAmount'] = pd.to_numeric(multichoice_df['CompensationAmount'], errors='coerce')\n",
        "\n",
        "income_df = multichoice_df.dropna(subset=['CompensationAmount'])\n",
        "high_income_df = income_df[income_df['CompensationAmount'] >= 40000]\n",
        "\n",
        "total_high_income_count = high_income_df.shape[0]\n",
        "\n",
        "\n",
        "tech_workers_df = high_income_df.dropna(subset=['CurrentJobTitleSelect'])\n",
        "tech_workers_df = tech_workers_df[tech_workers_df['CurrentJobTitleSelect'].str.contains('DBA/Database Engineer|Data Scientist|Machine Learning Engineer|Software Developer/Software Engineer|Data Analyst|Computer Scientist|Developer|Data Miner')]\n",
        "tech_workers_with_high_income = tech_workers_df['CompensationAmount'].shape[0]\n",
        "\n",
        "ratio = tech_workers_with_high_income/total_high_income_count\n",
        "ratio"
      ],
      "metadata": {
        "colab": {
          "base_uri": "https://localhost:8080/"
        },
        "id": "IoowmX4lp-De",
        "outputId": "f7b80289-78ce-496b-fc02-bc469e105eea"
      },
      "execution_count": null,
      "outputs": [
        {
          "output_type": "execute_result",
          "data": {
            "text/plain": [
              "0.642789598108747"
            ]
          },
          "metadata": {},
          "execution_count": 63
        }
      ]
    },
    {
      "cell_type": "markdown",
      "source": [
        "Q2-d"
      ],
      "metadata": {
        "id": "EkBxZpZHB2tU"
      }
    },
    {
      "cell_type": "code",
      "source": [
        "age_over_30_bachelor_df = multichoice_df[(multichoice_df['Age'] > 30) & (multichoice_df['FormalEducation'].isin([\"Bachelor's degree\", \"Master's degree\", \"Doctoral degree\"]))]\n",
        "joint_probability = age_over_30_bachelor_df.shape[0] / multichoice_df.shape[0]\n",
        "\n",
        "joint_probability"
      ],
      "metadata": {
        "colab": {
          "base_uri": "https://localhost:8080/"
        },
        "id": "BGAvYqgl24p-",
        "outputId": "a2ffa4cd-a290-44ab-acb5-63bcb22e55ed"
      },
      "execution_count": null,
      "outputs": [
        {
          "output_type": "execute_result",
          "data": {
            "text/plain": [
              "0.36898779612347454"
            ]
          },
          "metadata": {},
          "execution_count": 72
        }
      ]
    },
    {
      "cell_type": "markdown",
      "source": [
        "Q2-e"
      ],
      "metadata": {
        "id": "GQJgk-qjCsaU"
      }
    },
    {
      "cell_type": "code",
      "source": [
        "data_scientist_df = multichoice_df[(multichoice_df['CurrentJobTitleSelect'] == 'Data Scientist') &\n",
        "                                   (multichoice_df['MajorSelect'].isin(['Computer Science', 'Mathematics', 'Statistics']))]\n",
        "\n",
        "# Calculate the probability\n",
        "probability = data_scientist_df.shape[0] / multichoice_df.shape[0]\n",
        "\n",
        "print(probability)\n"
      ],
      "metadata": {
        "id": "gV4OdSE3CgoF",
        "colab": {
          "base_uri": "https://localhost:8080/"
        },
        "outputId": "30c11f90-f693-4e41-e98d-3374e1eae70d"
      },
      "execution_count": 8,
      "outputs": [
        {
          "output_type": "stream",
          "name": "stdout",
          "text": [
            "0.034296913277805\n"
          ]
        }
      ]
    },
    {
      "cell_type": "markdown",
      "source": [
        "Q2-f\n"
      ],
      "metadata": {
        "id": "MrIJJgQuOL4t"
      }
    },
    {
      "cell_type": "code",
      "source": [],
      "metadata": {
        "id": "zVaEjusqCyP9"
      },
      "execution_count": null,
      "outputs": []
    },
    {
      "cell_type": "markdown",
      "source": [
        "Q2-g"
      ],
      "metadata": {
        "id": "B2CCyLkrON-_"
      }
    },
    {
      "cell_type": "code",
      "source": [
        "total_c_cpp_users_count\n",
        "programmers_count\n",
        "\n",
        "prob = (probability_programmer_given_c_cpp * total_c_cpp_users_count) / programmers_count\n",
        "\n",
        "prob"
      ],
      "metadata": {
        "colab": {
          "base_uri": "https://localhost:8080/"
        },
        "id": "8FuofTApOQe9",
        "outputId": "5fb8977f-6d4c-4973-9bca-11b2471a3746"
      },
      "execution_count": 13,
      "outputs": [
        {
          "output_type": "execute_result",
          "data": {
            "text/plain": [
              "0.16666666666666666"
            ]
          },
          "metadata": {},
          "execution_count": 13
        }
      ]
    },
    {
      "cell_type": "markdown",
      "source": [
        "Q2-h"
      ],
      "metadata": {
        "id": "gwet2u34PNpp"
      }
    },
    {
      "cell_type": "code",
      "source": [
        "wearing_glasses = 0.15\n",
        "prob_wearing_glasses_given_PhD = 0.25\n",
        "\n",
        "phd_df = multichoice_df[multichoice_df['FormalEducation'] == \"Doctoral degree\"]\n",
        "\n",
        "# Calculate the probability\n",
        "probability_phd = phd_df.shape[0] / multichoice_df.shape[0]\n",
        "\n",
        "asked_prob = (5/3) * probability_phd\n",
        "\n",
        "asked_prob"
      ],
      "metadata": {
        "colab": {
          "base_uri": "https://localhost:8080/"
        },
        "id": "lJsJNiMXPPJ-",
        "outputId": "f5bec5eb-75bd-499d-df4f-25727d2fff82"
      },
      "execution_count": 15,
      "outputs": [
        {
          "output_type": "execute_result",
          "data": {
            "text/plain": [
              "0.2229299363057325"
            ]
          },
          "metadata": {},
          "execution_count": 15
        }
      ]
    }
  ]
}