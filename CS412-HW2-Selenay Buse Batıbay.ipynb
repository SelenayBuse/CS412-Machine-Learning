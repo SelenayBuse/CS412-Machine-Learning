{
  "nbformat": 4,
  "nbformat_minor": 0,
  "metadata": {
    "colab": {
      "provenance": []
    },
    "kernelspec": {
      "name": "python3",
      "display_name": "Python 3"
    },
    "language_info": {
      "name": "python"
    }
  },
  "cells": [
    {
      "cell_type": "markdown",
      "source": [
        "Selenay Buse Batıbay 30294"
      ],
      "metadata": {
        "id": "1xST6o4nN2G0"
      }
    },
    {
      "cell_type": "code",
      "execution_count": 12,
      "metadata": {
        "id": "56M4fqaGJNMb"
      },
      "outputs": [],
      "source": [
        "import pandas as pd\n",
        "import numpy as np\n",
        "import matplotlib.pyplot as plt"
      ]
    },
    {
      "cell_type": "code",
      "source": [
        "schema_pd = pd.read_csv(\"schema.csv\")\n",
        "freeform_df = pd.read_csv(\"freeformResponses.csv\")\n",
        "multichoice_df = pd.read_csv(\"multipleChoiceResponses.csv\", encoding=\"latin1\")\n",
        "convrates_df = pd.read_csv(\"conversionRates.csv\")"
      ],
      "metadata": {
        "id": "8WTjIWS5MWnM",
        "colab": {
          "base_uri": "https://localhost:8080/"
        },
        "outputId": "62cf3c08-7cfe-4dbe-bce8-b828e17370a0"
      },
      "execution_count": 13,
      "outputs": [
        {
          "output_type": "stream",
          "name": "stderr",
          "text": [
            "<ipython-input-13-3c57e4aa5c50>:2: DtypeWarning: Columns (5,17,21,38,50) have mixed types. Specify dtype option on import or set low_memory=False.\n",
            "  freeform_df = pd.read_csv(\"freeformResponses.csv\")\n",
            "<ipython-input-13-3c57e4aa5c50>:3: DtypeWarning: Columns (31,83,86,87,98,99,109,116,123,124,127,129,130,164) have mixed types. Specify dtype option on import or set low_memory=False.\n",
            "  multichoice_df = pd.read_csv(\"multipleChoiceResponses.csv\", encoding=\"latin1\")\n"
          ]
        }
      ]
    },
    {
      "cell_type": "markdown",
      "source": [
        "Q2-a\n",
        "P(A|B) WHERE A IS BEING A PROGRAMMER AND B IS USING C/C++"
      ],
      "metadata": {
        "id": "uBnxbfRZOBpb"
      }
    },
    {
      "cell_type": "code",
      "source": [
        "C_users_df = multichoice_df[multichoice_df['WorkToolsSelect'].str.contains('C\\/C\\+\\+', na=False)]\n",
        "total_c_users = C_users_df.shape[0]\n",
        "\n",
        "programmers_c_users_df = C_users_df[C_users_df['CurrentJobTitleSelect'].str.contains('Programmer', na=False)]\n",
        "prog_count = programmers_c_users_df.shape[0]\n",
        "\n",
        "probability_programmer_given_c_cpp = 100 * prog_count / total_c_users\n",
        "\n",
        "print(\"Probability that a respondent is currently employed as a Programmer given they use C/C++ at work = {:.2f}%\".format(probability_programmer_given_c_cpp))\n",
        "\n"
      ],
      "metadata": {
        "colab": {
          "base_uri": "https://localhost:8080/"
        },
        "id": "qwYzjEGGNZfP",
        "outputId": "4aa5ff41-d187-418a-881e-b199c8c137eb"
      },
      "execution_count": 14,
      "outputs": [
        {
          "output_type": "stream",
          "name": "stdout",
          "text": [
            "Probability that a respondent is currently employed as a Programmer given they use C/C++ at work = 2.23%\n"
          ]
        }
      ]
    },
    {
      "cell_type": "markdown",
      "source": [
        "Q2-b"
      ],
      "metadata": {
        "id": "_imQiU-h0AOo"
      }
    },
    {
      "cell_type": "code",
      "source": [
        "majored_df = multichoice_df[multichoice_df['MajorSelect'].str.contains('computer science|mathematics|statistics', case=False, na=False)]\n",
        "math_cs_stat_majored_count = majored_df.shape[0]\n",
        "\n",
        "data_scientists_in_majored_df = majored_df[majored_df['CurrentJobTitleSelect'].str.contains('Data Scientist', na=False)]\n",
        "data_scientists_in_majored_df_count = data_scientists_in_majored_df.shape[0]\n",
        "\n",
        "probability_CsMathStat_dataScientists = 100 *data_scientists_in_majored_df_count/math_cs_stat_majored_count\n",
        "\n",
        "print(\"Probability that a respondent is a Data Scientist given they have majored incomputer science, mathematics or statistics = {:.2f}%\".format(probability_CsMathStat_dataScientists))"
      ],
      "metadata": {
        "colab": {
          "base_uri": "https://localhost:8080/"
        },
        "id": "h4sHQ7qtz__f",
        "outputId": "a43bf2ce-08b5-4306-850e-ce5ef296d247"
      },
      "execution_count": 15,
      "outputs": [
        {
          "output_type": "stream",
          "name": "stdout",
          "text": [
            "Probability that a respondent is a Data Scientist given they have majored incomputer science, mathematics or statistics = 15.97%\n"
          ]
        }
      ]
    },
    {
      "cell_type": "markdown",
      "source": [
        "Q2-c"
      ],
      "metadata": {
        "id": "rH3k95r_2h9E"
      }
    },
    {
      "cell_type": "code",
      "source": [
        "annual_compensations_df = pd.DataFrame({\n",
        "    'CompensationAmount': pd.to_numeric(multichoice_df['CompensationAmount'].str.replace(',', ''), errors='coerce'),\n",
        "    'CompensationCurrency': multichoice_df['CompensationCurrency'],\n",
        "    'EmployerIndustry': multichoice_df['EmployerIndustry']\n",
        "}) #creating a new dataframe with the related elements in multichoice_df\n",
        "\n",
        "annual_compensations_df.dropna(subset=['CompensationAmount', 'CompensationCurrency'], inplace=True)\n",
        "\n",
        "annual_df = annual_compensations_df.merge(convrates_df, left_on='CompensationCurrency', right_on='originCountry', how='left')\n",
        "annual_df['CompensationAmountinUSD'] = annual_df['CompensationAmount'] * annual_df['exchangeRate']\n",
        "\n",
        "annual_compensation_bigger_than_40k_df = annual_df[annual_df['CompensationAmountinUSD'] > 40000]\n",
        "bigger_than_40k_count = annual_compensation_bigger_than_40k_df.shape[0]\n",
        "\n",
        "tech_workers_in_high_income_df = annual_compensation_bigger_than_40k_df[annual_compensation_bigger_than_40k_df['EmployerIndustry'].str.contains('Technology', na=False)]\n",
        "tech_worker_count = tech_workers_in_high_income_df.shape[0]\n",
        "\n",
        "probability = 100 * tech_worker_count/ bigger_than_40k_count\n",
        "\n",
        "print(\"Probability that a respondent works in the Technology industry given that they earn more than 40,000 USD annually = {:.2f}%\".format(probability))"
      ],
      "metadata": {
        "colab": {
          "base_uri": "https://localhost:8080/"
        },
        "id": "rdT5Qi0Ux4Rr",
        "outputId": "194b7240-519c-438b-8bb2-49b1492b279a"
      },
      "execution_count": 16,
      "outputs": [
        {
          "output_type": "stream",
          "name": "stdout",
          "text": [
            "Probability that a respondent works in the Technology industry given that they earn more than 40,000 USD annually = 19.35%\n"
          ]
        }
      ]
    },
    {
      "cell_type": "markdown",
      "source": [
        "Q2-d"
      ],
      "metadata": {
        "id": "EkBxZpZHB2tU"
      }
    },
    {
      "cell_type": "code",
      "source": [
        "age_over_30_bachelor_df = multichoice_df[(multichoice_df['Age'] > 30) & (multichoice_df['FormalEducation'].isin([\"Bachelor's degree\", \"Master's degree\", \"Doctoral degree\", \"Professional Degree\"]))]\n",
        "joint_probability = 100 *age_over_30_bachelor_df.shape[0] / multichoice_df.shape[0]\n",
        "\n",
        "print(\"Joint probability of a respondent being over 30 years old and having a at least a Bachelor’s degree = {:.2f}%\".format(joint_probability))"
      ],
      "metadata": {
        "colab": {
          "base_uri": "https://localhost:8080/"
        },
        "id": "BGAvYqgl24p-",
        "outputId": "ae683f97-0468-42bb-c10e-7b3eeebe1d81"
      },
      "execution_count": 17,
      "outputs": [
        {
          "output_type": "stream",
          "name": "stdout",
          "text": [
            "Joint probability of a respondent being over 30 years old and having a at least a Bachelor’s degree = 36.90%\n"
          ]
        }
      ]
    },
    {
      "cell_type": "markdown",
      "source": [
        "Q2-e"
      ],
      "metadata": {
        "id": "GQJgk-qjCsaU"
      }
    },
    {
      "cell_type": "code",
      "source": [
        "data_scientist_df = multichoice_df[(multichoice_df['CurrentJobTitleSelect'] == 'Data Scientist') &\n",
        "                                   (multichoice_df['MajorSelect'].isin(['Computer Science', 'Mathematics or statistics']))]\n",
        "\n",
        "# Calculate the probability\n",
        "probability = 100 * data_scientist_df.shape[0] / multichoice_df.shape[0]\n",
        "\n",
        "print(\"Probability that a respondent is a Data Scientist who majored in Computer Science, Mathematics or statistics = {:.2f}%\".format(probability))\n"
      ],
      "metadata": {
        "id": "gV4OdSE3CgoF",
        "colab": {
          "base_uri": "https://localhost:8080/"
        },
        "outputId": "2c5c40b8-e779-4650-bef0-1b586cc06ab2"
      },
      "execution_count": 9,
      "outputs": [
        {
          "output_type": "stream",
          "name": "stdout",
          "text": [
            "Probability that a respondent is a Data Scientist who majored in Computer Science, Mathematics or statistics = 6.32%\n"
          ]
        }
      ]
    },
    {
      "cell_type": "markdown",
      "source": [
        "Q2-f\n"
      ],
      "metadata": {
        "id": "MrIJJgQuOL4t"
      }
    },
    {
      "cell_type": "code",
      "source": [
        "new_df = pd.DataFrame({\n",
        "    'CompensationAmount': pd.to_numeric(multichoice_df['CompensationAmount'].str.replace(',', ''), errors='coerce'),\n",
        "    'CompensationCurrency': multichoice_df['CompensationCurrency'],\n",
        "    'WorkMethodsFrequencyCross-Validation': multichoice_df['WorkMethodsFrequencyCross-Validation'],\n",
        "    'Country': multichoice_df['Country']\n",
        "})\n",
        "\n",
        "new_df_for_france = new_df.merge(convrates_df, left_on='CompensationCurrency', right_on='originCountry', how='left')\n",
        "new_df_for_france['CompensationAmountUSD'] = new_df_for_france['CompensationAmount'] * new_df_for_france['exchangeRate']\n",
        "new_df_for_france.drop(['CompensationAmount', 'CompensationCurrency', 'originCountry', 'exchangeRate', 'Unnamed: 0'], axis=1, inplace=True)\n",
        "\n",
        "new_df_for_france = new_df_for_france[\n",
        "    (new_df_for_france['Country'] == 'France') &\n",
        "    (new_df_for_france['CompensationAmountUSD'] < 100000) &\n",
        "    (new_df_for_france['WorkMethodsFrequencyCross-Validation'].isin(['Often', 'Most of the time']))\n",
        "]\n",
        "\n",
        "probability = 100 * new_df_for_france.shape[0] / multichoice_df.shape[0]\n",
        "\n",
        "\n",
        "print(\"Joint probability that a respondent is from France, earns less than 100,000 USD annually, \\nand uses Cross-Validation Often or Most of the time = {:.2f}%\".format(probability))\n",
        "\n",
        "\n"
      ],
      "metadata": {
        "id": "zVaEjusqCyP9",
        "colab": {
          "base_uri": "https://localhost:8080/"
        },
        "outputId": "f4ffbd68-f6fe-4d35-d814-99c9365fd6ab"
      },
      "execution_count": 10,
      "outputs": [
        {
          "output_type": "stream",
          "name": "stdout",
          "text": [
            "Joint probability that a respondent is from France, earns less than 100,000 USD annually, \n",
            "and uses Cross-Validation Often or Most of the time = 0.46%\n"
          ]
        }
      ]
    },
    {
      "cell_type": "markdown",
      "source": [
        "Q2-g"
      ],
      "metadata": {
        "id": "B2CCyLkrON-_"
      }
    },
    {
      "cell_type": "code",
      "source": [
        "# using Bayes Theorem P(A|B) = (P(B|A) * P(B)) / P(A)\n",
        "total_programmers_df = multichoice_df[multichoice_df['CurrentJobTitleSelect'].str.contains('Programmer', na=False)]\n",
        "total_prog_count = total_programmers_df.shape[0]\n",
        "\n",
        "\n",
        "prob = (100 * probability_programmer_given_c_cpp * total_prog_count) / total_c_users\n",
        "\n",
        "print(\"Probability that a respondent uses C/C++ at work given they are employed as a Programmer: {:.2f}%\".format(prob))\n"
      ],
      "metadata": {
        "colab": {
          "base_uri": "https://localhost:8080/"
        },
        "id": "8FuofTApOQe9",
        "outputId": "aed3cb73-dc4f-4aad-af13-ac946ecd50fb"
      },
      "execution_count": 18,
      "outputs": [
        {
          "output_type": "stream",
          "name": "stdout",
          "text": [
            "Probability that a respondent uses C/C++ at work given they are employed as a Programmer: 67.28%\n"
          ]
        }
      ]
    },
    {
      "cell_type": "markdown",
      "source": [
        "Q2-h"
      ],
      "metadata": {
        "id": "gwet2u34PNpp"
      }
    },
    {
      "cell_type": "code",
      "source": [
        "wearing_glasses = 0.15\n",
        "prob_wearing_glasses_given_PhD = 0.25\n",
        "\n",
        "phd_df = multichoice_df[multichoice_df['FormalEducation'] == \"Doctoral degree\"]\n",
        "\n",
        "# Calculate the probability\n",
        "probability_phd = phd_df.shape[0] / multichoice_df.shape[0]\n",
        "\n",
        "asked_prob = prob_wearing_glasses_given_PhD * probability_phd / wearing_glasses\n",
        "\n",
        "print(\"Probability of a respondent having a PhD given that they wear glasses = {:.2f}%\".format(asked_prob))"
      ],
      "metadata": {
        "colab": {
          "base_uri": "https://localhost:8080/"
        },
        "id": "lJsJNiMXPPJ-",
        "outputId": "8747332f-39b6-419f-d769-6d512ade2304"
      },
      "execution_count": null,
      "outputs": [
        {
          "output_type": "stream",
          "name": "stdout",
          "text": [
            "Probability of a respondent having a PhD given that they wear glasses = 0.23%\n"
          ]
        }
      ]
    }
  ]
}